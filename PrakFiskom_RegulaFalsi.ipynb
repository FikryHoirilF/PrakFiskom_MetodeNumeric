{
  "nbformat": 4,
  "nbformat_minor": 0,
  "metadata": {
    "colab": {
      "provenance": []
    },
    "kernelspec": {
      "name": "python3",
      "display_name": "Python 3"
    },
    "language_info": {
      "name": "python"
    }
  },
  "cells": [
    {
      "cell_type": "code",
      "execution_count": 4,
      "metadata": {
        "id": "Hd_49xOhz5KH"
      },
      "outputs": [],
      "source": [
        "import numpy as np\n",
        "import matplotlib.pyplot as plt"
      ]
    },
    {
      "cell_type": "code",
      "source": [
        "def regula_falsi(f,a,b,tol):\n",
        "\n",
        "    if f(a)*f(b)>0:\n",
        "        print('tebakan awal a dan b tidak mengurung akar, silahkan tentukan tebakan lain')\n",
        "\n",
        "        return None\n",
        "\n",
        "    c = b-((f(b)*(b-a))/(f(b)-f(a)))\n",
        "\n",
        "    while abs(f(c))>tol:\n",
        "        c = b-((f(b)*(b-a))/(f(b)-f(a)))\n",
        "\n",
        "        if f(a)*f(c)>0:\n",
        "            a=c\n",
        "        if f(b)*f(c)>0:\n",
        "            b=c\n",
        "\n",
        "    return c"
      ],
      "metadata": {
        "id": "IoJ3TJp-0fOI"
      },
      "execution_count": 5,
      "outputs": []
    },
    {
      "cell_type": "code",
      "source": [
        "def f(x):\n",
        "    y=x**3-15\n",
        "    return y\n",
        "\n",
        "a = float(input('Tebakan awal a = '))\n",
        "b = float(input('Tebakan awal b = '))\n",
        "tol = float(input('Toleransi = '))\n",
        "\n",
        "x = regula_falsi(f,a,b,tol)\n",
        "\n",
        "print (\"Akar: x = \",format(x))"
      ],
      "metadata": {
        "colab": {
          "base_uri": "https://localhost:8080/"
        },
        "id": "JqR8gySJ2BKm",
        "outputId": "181a5a97-83e2-4fee-9421-422c9f9acfd9"
      },
      "execution_count": 18,
      "outputs": [
        {
          "output_type": "stream",
          "name": "stdout",
          "text": [
            "Tebakan awal a = 0\n",
            "Tebakan awal b = 10\n",
            "Toleransi = 1e-10\n",
            "Akar: x =  2.4662120743256892\n"
          ]
        }
      ]
    }
  ]
}