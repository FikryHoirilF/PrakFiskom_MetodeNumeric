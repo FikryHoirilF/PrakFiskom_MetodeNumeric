{
  "nbformat": 4,
  "nbformat_minor": 0,
  "metadata": {
    "colab": {
      "provenance": []
    },
    "kernelspec": {
      "name": "python3",
      "display_name": "Python 3"
    },
    "language_info": {
      "name": "python"
    }
  },
  "cells": [
    {
      "cell_type": "code",
      "source": [
        "def bisection(f,a,b,tol):\n",
        "\n",
        "    if f(a)*f(b)>0:\n",
        "        print(\"a dan b tidak mengurung nilai, tentukan nilai lain\")\n",
        "        return None\n",
        "\n",
        "    c=(a+b)/2\n",
        "\n",
        "    while abs (f(c))>tol:\n",
        "        c=(a+b)/2\n",
        "        if f(a)*f(c)>0:\n",
        "            a=c\n",
        "        if f(b)*f(c)>0:\n",
        "            b=c\n",
        "    return c"
      ],
      "metadata": {
        "id": "M6dSHs2tDEKH"
      },
      "execution_count": 1,
      "outputs": []
    },
    {
      "cell_type": "code",
      "source": [
        "def f(x):\n",
        "    y = x**3-15\n",
        "    return y\n",
        "a = float(input('tebakan awal a ='))\n",
        "b = float(input('tebakan awal b ='))\n",
        "tol = float(input('Toleransi ='))\n",
        "\n",
        "x = bisection(f,a,b,tol)\n",
        "print(\"Akar Persamaan: x = ()\" ,format(x))"
      ],
      "metadata": {
        "colab": {
          "base_uri": "https://localhost:8080/"
        },
        "id": "5JIwO9jBDN7-",
        "outputId": "7071dc54-fe36-4bd7-9cd7-383a5be45f83"
      },
      "execution_count": 5,
      "outputs": [
        {
          "output_type": "stream",
          "name": "stdout",
          "text": [
            "tebakan awal a =0\n",
            "tebakan awal b =10\n",
            "Toleransi =1e-10\n",
            "Akar Persamaan: x = () 2.4662120743323612\n"
          ]
        }
      ]
    }
  ]
}