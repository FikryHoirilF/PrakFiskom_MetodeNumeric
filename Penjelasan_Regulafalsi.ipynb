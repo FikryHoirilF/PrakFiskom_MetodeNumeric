{
  "nbformat": 4,
  "nbformat_minor": 0,
  "metadata": {
    "colab": {
      "provenance": []
    },
    "kernelspec": {
      "name": "python3",
      "display_name": "Python 3"
    },
    "language_info": {
      "name": "python"
    }
  },
  "cells": [
    {
      "cell_type": "markdown",
      "source": [
        " Kode di atas adalah metode Regula Falsi dalam bahasa pemrograman Python untuk mencari akar dari suatu fungsi matematis. Fungsi regula falsi memperoleh input berupa fungsi a dan b serta nilai toleransi, nilai toleransi disini adalah nilai yang mendekati nol karena definisi akar adalah x disebut akar pada saat f pada x tersebut hasilnya sama dengan nol atau mendekati nol, maka dapat menentukan bahwa x tersebut adalah akar. Membuat logika if jika f(a) dikali (fb) nilainya positif Jika tebakan awal a dan b tidak mengurung akar (tanda fungsi pada a dan b sama), maka program akan memberikan pesan kesalahan. Jika f(a) dan f (b) nya kurang dari nol maka akar dikurung oleh tebakan awal a dan b. Menentukan nilai c sesuai formulasi, nilai c regula falsi yang diketahui adalah b dikurangi f(b) dikali b kurangi a dibagi dengan f(b) dikurangi f(a). Membuat program nilai absolut dari f(c) dan menentukan nilai c nya terlebih dahulu. jika f pada saat c ini lebih besar dari nilai toleransi dan akan berhenti ketika sama dengan atau kurang dari toleransi. Membuat logika f(a) dikali f(c) lebih besar nol maka a ganti menjadi c dan sebaliknya jika f(b) dikali dengan f(c) lebih besar dari nol maka b nya ganti menjadi c dan seterusnya sampai nilai f(c) ini kurang dari nilai toleransinya. Apabila nilai f(c) nya kurang dari toleransinya maka akan mengirimkan nilai c nilai akar yang di cari.\n",
        "\n",
        " Pada program utama mengimport regula falsi yang telah dibuat sebelemnya. Fungsi f(x) yang diselesaikan pada program misalnya y=x^2-4. Memperoleh input dengan enentukan nilai a sebagai tebakan awal a dan nilai b sebagai tebakan awal b, yang dicari mengurung akar atau akarnya berada diantara a dan b serta menentukan nilai toleransi atau batasan nilai tersebut mendekati nol. Menentukan akar x dengan cara regulafalsi memanggil funsi yang telah dibuat sebelumnya dan memasukan f, a, b dan nilai toleransi kemudian dapat memprint akar x nya. Kemudian menghasilkan output tebakan awal a yang kita gunakan adalah nol dan tebakan awal b nya kita gunakan 10 dan nilai toleransi yang kita gunakan 1x10^-10 yang mendekati nol kemudian memeperoleh nilai akarnya."
      ],
      "metadata": {
        "id": "_hMbiUxyPWUu"
      }
    }
  ]
}